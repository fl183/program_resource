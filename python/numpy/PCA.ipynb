{
 "cells": [
  {
   "cell_type": "code",
   "execution_count": 17,
   "metadata": {},
   "outputs": [
    {
     "name": "stdout",
     "output_type": "stream",
     "text": [
      "(150, 4)\n",
      "[5.84333333 3.054      3.75866667 1.19866667]\n",
      "[[5.1 3.5 1.4 0.2]\n",
      " [4.9 3.  1.4 0.2]\n",
      " [4.7 3.2 1.3 0.2]\n",
      " [4.6 3.1 1.5 0.2]\n",
      " [5.  3.6 1.4 0.2]]\n",
      "(150, 4)\n",
      "[[-0.74333333  0.446      -2.35866667 -0.99866667]\n",
      " [-0.94333333 -0.054      -2.35866667 -0.99866667]\n",
      " [-1.14333333  0.146      -2.45866667 -0.99866667]\n",
      " [-1.24333333  0.046      -2.25866667 -0.99866667]\n",
      " [-0.84333333  0.546      -2.35866667 -0.99866667]]\n",
      "[[ 0.68569351 -0.03926846  1.27368233  0.5169038 ]\n",
      " [-0.03926846  0.18800403 -0.32171275 -0.11798121]\n",
      " [ 1.27368233 -0.32171275  3.11317942  1.29638747]\n",
      " [ 0.5169038  -0.11798121  1.29638747  0.58241432]]\n"
     ]
    }
   ],
   "source": [
    "import numpy as np\n",
    "from sklearn.datasets import load_iris\n",
    "\n",
    "iris = load_iris()\n",
    "\n",
    "data = iris.data\n",
    "\n",
    "#print(dir(data))\n",
    "print(data.shape)\n",
    "\n",
    "mean_val = np.mean(data, axis=0)\n",
    "meaned_data = data - mean_val\n",
    "\n",
    "print(mean_val)\n",
    "print(data[:5, :])\n",
    "print(meaned_data.shape)\n",
    "\n",
    "print(meaned_data[:5, :])\n",
    "\n",
    "cov_mat = np.cov(meaned_data, rowvar=False)\n",
    "print(cov_mat)"
   ]
  },
  {
   "cell_type": "code",
   "execution_count": 5,
   "metadata": {},
   "outputs": [
    {
     "name": "stdout",
     "output_type": "stream",
     "text": [
      "[4.22484077 0.24224357 0.07852391 0.02368303] adaf [[ 0.36158968 -0.65653988 -0.58099728  0.31725455]\n",
      " [-0.08226889 -0.72971237  0.59641809 -0.32409435]\n",
      " [ 0.85657211  0.1757674   0.07252408 -0.47971899]\n",
      " [ 0.35884393  0.07470647  0.54906091  0.75112056]]\n",
      "[0 1 2 3]\n",
      "[[ 0.36158968 -0.65653988 -0.58099728  0.31725455]\n",
      " [-0.08226889 -0.72971237  0.59641809 -0.32409435]\n",
      " [ 0.85657211  0.1757674   0.07252408 -0.47971899]\n",
      " [ 0.35884393  0.07470647  0.54906091  0.75112056]]\n",
      "[[ 0.36158968 -0.65653988]\n",
      " [-0.08226889 -0.72971237]\n",
      " [ 0.85657211  0.1757674 ]\n",
      " [ 0.35884393  0.07470647]]\n"
     ]
    }
   ],
   "source": [
    "eig_vals, eig_vcts = np.linalg.eig(np.mat(cov_mat))\n",
    "print(eig_vals, 'adaf', eig_vcts)\n",
    "\n",
    "sorted_index = np.argsort(-eig_vals)  # 将特征值按从大到小排序，输出索引\n",
    "print(sorted_index)\n",
    "\n",
    "sorted_topn = sorted_index[:2]\n",
    "\n",
    "n_vects = eig_vcts[:, sorted_index]\n",
    "print(n_vects)\n",
    "\n",
    "topn_vects = eig_vcts[:, sorted_topn]\n",
    "print(topn_vects)"
   ]
  },
  {
   "cell_type": "code",
   "execution_count": 15,
   "metadata": {},
   "outputs": [
    {
     "name": "stdout",
     "output_type": "stream",
     "text": [
      "降维后的数据: [[-2.68420713 -0.32660731]\n",
      " [-2.71539062  0.16955685]\n",
      " [-2.88981954  0.13734561]\n",
      " [-2.7464372   0.31112432]\n",
      " [-2.72859298 -0.33392456]] (150, 2)\n",
      "还原后的数据: [[5.08718247 3.51315614 1.4020428  0.21105556]\n",
      " [4.75015528 3.15366444 1.46254138 0.23693223]\n",
      " [4.70823155 3.19151946 1.30746874 0.17193308]\n",
      " [4.64598447 3.05291508 1.46083069 0.23636736]\n",
      " [5.07593707 3.5221472  1.36273698 0.19458132]]\n"
     ]
    }
   ],
   "source": [
    "pca_data = meaned_data * topn_vects\n",
    "\n",
    "print(\"降维后的数据:\", pca_data[:5, :], pca_data.shape)\n",
    "\n",
    "recon_data = (pca_data * topn_vects.T) + mean_val\n",
    "print(\"还原后的数据:\", recon_data[:5, :])"
   ]
  }
 ],
 "metadata": {
  "kernelspec": {
   "display_name": "Python 3",
   "language": "python",
   "name": "python3"
  },
  "language_info": {
   "codemirror_mode": {
    "name": "ipython",
    "version": 3
   },
   "file_extension": ".py",
   "mimetype": "text/x-python",
   "name": "python",
   "nbconvert_exporter": "python",
   "pygments_lexer": "ipython3",
   "version": "3.6.5"
  }
 },
 "nbformat": 4,
 "nbformat_minor": 2
}
