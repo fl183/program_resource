{
 "cells": [
  {
   "cell_type": "code",
   "execution_count": 2,
   "metadata": {},
   "outputs": [
    {
     "name": "stdout",
     "output_type": "stream",
     "text": [
      "<map object at 0x000001E687E28DA0> 570\n"
     ]
    }
   ],
   "source": [
    "from functools import reduce\n",
    "\n",
    "ldemo = [2, 3, 5, 20, 4, 10, 4]\n",
    "\n",
    "mapout = map(lambda x: x**2, ldemo)\n",
    "reduceout = reduce(lambda x, y: x + y, mapout)\n",
    "\n",
    "print(mapout, reduceout)"
   ]
  }
 ],
 "metadata": {
  "kernelspec": {
   "display_name": "Python 3",
   "language": "python",
   "name": "python3"
  },
  "language_info": {
   "codemirror_mode": {
    "name": "ipython",
    "version": 3
   },
   "file_extension": ".py",
   "mimetype": "text/x-python",
   "name": "python",
   "nbconvert_exporter": "python",
   "pygments_lexer": "ipython3",
   "version": "3.6.5"
  }
 },
 "nbformat": 4,
 "nbformat_minor": 2
}
