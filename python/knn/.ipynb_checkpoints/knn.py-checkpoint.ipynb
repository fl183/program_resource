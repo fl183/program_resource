{
 "cells": [
  {
   "cell_type": "code",
   "execution_count": 9,
   "metadata": {},
   "outputs": [
    {
     "name": "stdout",
     "output_type": "stream",
     "text": [
      "4\n",
      "[0 1 3 2]\n",
      "A\n",
      "{'A': 1}\n",
      "A\n",
      "{'A': 2}\n",
      "B\n",
      "{'A': 2, 'B': 1}\n",
      "B\n",
      "{'A': 2, 'B': 2}\n",
      "[('A', 2), ('B', 2)]\n"
     ]
    },
    {
     "data": {
      "text/plain": [
       "'A'"
      ]
     },
     "execution_count": 9,
     "metadata": {},
     "output_type": "execute_result"
    }
   ],
   "source": [
    "from numpy import *\n",
    "import operator\n",
    "\n",
    "def createDataSet():\n",
    "    group = array([[1.0,1.1], [1.0,1.0], [0,0], [0,0.1]])\n",
    "    labels = ['A', 'A', 'B', 'B']\n",
    "    return group, labels\n",
    "\n",
    "a, b = createDataSet()\n",
    "\n",
    "print(a.shape[0])\n",
    "\n",
    "def classify0(inX, dataSet, labels, k):\n",
    "    dataSetSize = dataSet.shape[0]\n",
    "    diffMat = tile(inX, (dataSetSize,1)) - dataSet\n",
    "    sqDiffMat = diffMat**2\n",
    "    sqDistances = sqDiffMat.sum(axis=1)\n",
    "    distances = sqDistances**0.5\n",
    "    \n",
    "    # argsort 是将distances中的数据按从小到大排序，并提取索引返回到输出\n",
    "    sortedDistIndicies = distances.argsort()\n",
    "    print(sortedDistIndicies)\n",
    "    \n",
    "    classCount={}          \n",
    "    for i in range(k):\n",
    "        voteIlabel = labels[sortedDistIndicies[i]]\n",
    "        print(voteIlabel)\n",
    "        classCount[voteIlabel] = classCount.get(voteIlabel,0) + 1\n",
    "        print(classCount)\n",
    "    # python 3 中iteritems更改为items\n",
    "    sortedClassCount = sorted(classCount.items(), key=operator.itemgetter(1), reverse=True)\n",
    "    print(sortedClassCount)\n",
    "    return sortedClassCount[0][0]\n",
    "\n",
    "classify0([3,4], a, b, 4)\n",
    "\n",
    "def file2matrix(filename):\n",
    "    love_dictionary={'largeDoses':3, 'smallDoses':2, 'didntLike':1}\n",
    "    fr = open(filename)\n",
    "    arrayOLines = fr.readlines()\n",
    "    numberOfLines = len(arrayOLines)            # get the number of lines in the file\n",
    "    returnMat = zeros((numberOfLines,3))        # prepare matrix to return\n",
    "    classLabelVector = []                       # prepare labels return   \n",
    "    index = 0\n",
    "    for line in arrayOLines:\n",
    "        line = line.strip()\n",
    "        listFromLine = line.split('\\t')\n",
    "        returnMat[index,:] = listFromLine[0:3]\n",
    "        if(listFromLine[-1].isdigit()):\n",
    "            classLabelVector.append(int(listFromLine[-1]))\n",
    "        else:\n",
    "            classLabelVector.append(love_dictionary.get(listFromLine[-1]))\n",
    "        index += 1\n",
    "    return returnMat,classLabelVector\n",
    "\n"
   ]
  }
 ],
 "metadata": {
  "kernelspec": {
   "display_name": "Python 3",
   "language": "python",
   "name": "python3"
  },
  "language_info": {
   "codemirror_mode": {
    "name": "ipython",
    "version": 3
   },
   "file_extension": ".py",
   "mimetype": "text/x-python",
   "name": "python",
   "nbconvert_exporter": "python",
   "pygments_lexer": "ipython3",
   "version": "3.6.5"
  }
 },
 "nbformat": 4,
 "nbformat_minor": 2
}
